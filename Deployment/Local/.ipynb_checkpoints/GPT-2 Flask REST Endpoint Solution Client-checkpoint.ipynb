{
 "cells": [
  {
   "cell_type": "code",
   "execution_count": 1,
   "id": "e103cedd-96c0-46e3-8f7f-69e5e5a094bb",
   "metadata": {},
   "outputs": [
    {
     "name": "stdout",
     "output_type": "stream",
     "text": [
      "{'generated_text': \"I would've told you I have nothing more to say, but now you want to listen to my voice. The longer I go on listening to you, the less you'll understand. So go! I'll be there for you someday. <pause> <sniff> How can you believe I'm here? Is it even possible? Of course you can't believe it. This is a really big deal. If we're going to talk about it, you'd better not have told me this. But I'm here to help you, so stop lying to your kids about this, you know it's all true. And of course I'm here to make sure you understand. Do you really think I'd want you\"}\n"
     ]
    }
   ],
   "source": [
    "import requests\n",
    "\n",
    "url = 'http://127.0.0.1:10003/generate'\n",
    "data = {'text': 'Once upon a time,'}\n",
    "\n",
    "try:\n",
    "    response = requests.post(url, json=data)\n",
    "    response.raise_for_status() # Raise an exception for bad status codes\n",
    "    result = response.json()\n",
    "    print(result)\n",
    "except requests.exceptions.RequestException as e:\n",
    "    print(f\"Error: {e}\")"
   ]
  },
  {
   "cell_type": "code",
   "execution_count": null,
   "id": "f1a741d6-946d-4221-8b6a-20b5e86f221d",
   "metadata": {},
   "outputs": [],
   "source": []
  }
 ],
 "metadata": {
  "kernelspec": {
   "display_name": "Python 3 (ipykernel)",
   "language": "python",
   "name": "python3"
  },
  "language_info": {
   "codemirror_mode": {
    "name": "ipython",
    "version": 3
   },
   "file_extension": ".py",
   "mimetype": "text/x-python",
   "name": "python",
   "nbconvert_exporter": "python",
   "pygments_lexer": "ipython3",
   "version": "3.11.6"
  }
 },
 "nbformat": 4,
 "nbformat_minor": 5
}
