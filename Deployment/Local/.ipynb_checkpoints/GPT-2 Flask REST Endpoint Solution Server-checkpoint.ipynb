{
 "cells": [
  {
   "cell_type": "markdown",
   "id": "setup",
   "metadata": {},
   "source": [
    "# GPT-2 Flask REST Endpoint\n",
    "\n",
    "This notebook demonstrates how to create a local REST API endpoint using Flask to serve a GPT-2 text generation model. You can send text prompts to this endpoint and receive generated text back."
   ]
  },
  {
   "cell_type": "markdown",
   "id": "installation",
   "metadata": {},
   "source": [
    "## 1. Installation\n",
    "\n",
    "First, we need to install the required libraries: `flask`, `transformers`, and `torch`."
   ]
  },
  {
   "cell_type": "code",
   "execution_count": null,
   "id": "install_libs",
   "metadata": {},
   "outputs": [],
   "source": [
    "!pip install Flask transformers torch"
   ]
  },
  {
   "cell_type": "markdown",
   "id": "import_and_load",
   "metadata": {},
   "source": [
    "## 2. Import Libraries and Load Model\n",
    "\n",
    "We'll import Flask and the necessary components from the `transformers` library to load the GPT-2 model and tokenizer and set up the generation function."
   ]
  },
  {
   "cell_type": "code",
   "execution_count": null,
   "id": "load_model",
   "metadata": {},
   "outputs": [],
   "source": [
    "from flask import Flask, request, jsonify\n",
    "from transformers import pipeline, set_seed\n",
    "\n",
    "# Initialize model\n",
    "generator = pipeline('text-generation', model='gpt2')\n",
    "set_seed(42)\n",
    "\n",
    "# Define the text generation function\n",
    "def run_gpt2(input, answer_length=30):\n",
    "    # Generate text, limiting the total length to 150 tokens\n",
    "    # and removing the input prompt from the start of the output.\n",
    "    generated_text = generator(input, max_length=150, num_return_sequences=1)[0]['generated_text']\n",
    "    # Remove the input prompt from the beginning of the generated text\n",
    "    if generated_text.startswith(input):\n",
    "        return generated_text[len(input):].strip()\n",
    "    return generated_text.strip()\n"
   ]
  },
  {
   "cell_type": "markdown",
   "id": "flask_app",
   "metadata": {},
   "source": [
    "## 3. Create Flask App and Endpoint\n",
    "\n",
    "Now, we'll create a Flask application and define a route (`/generate`) that will handle text generation requests. This endpoint will accept POST requests containing JSON data with a 'text' field. We will use the `run_gpt2` function defined above."
   ]
  },
  {
   "cell_type": "code",
   "execution_count": null,
   "id": "create_app",
   "metadata": {},
   "outputs": [],
   "source": [
    "# Create a Flask application instance\n",
    "app = Flask(__name__)\n",
    "\n",
    "# Define the route for text generation\n",
    "@app.route('/generate', methods=['POST'])\n",
    "def generate_text():\n",
    "    # Get the JSON data from the request\n",
    "    data = request.get_json()\n",
    "\n",
    "    # Check if the 'text' field is present in the request data\n",
    "    if 'text' not in data:\n",
    "        return jsonify({'error': 'Missing \"text\" field in request'}), 400\n",
    "\n",
    "    prompt = data['text']\n",
    "\n",
    "    try:\n",
    "        # Use the run_gpt2 function to generate text\n",
    "        generated_text = run_gpt2(prompt)\n",
    "\n",
    "        # Return the generated text as a JSON response\n",
    "        return jsonify({'generated_text': generated_text})\n",
    "\n",
    "    except Exception as e:\n",
    "        # Return an error response if something goes wrong\n",
    "        return jsonify({'error': str(e)}), 500\n"
   ]
  },
  {
   "cell_type": "markdown",
   "id": "run_app",
   "metadata": {},
   "source": [
    "## 4. Run the Flask App\n",
    "\n",
    "Finally, run the Flask development server. By default, it will run on `http://127.0.0.1:5000/`. The server will block the notebook cell execution. To stop the server, interrupt the kernel."
   ]
  },
  {
   "cell_type": "code",
   "execution_count": null,
   "id": "run_server",
   "metadata": {},
   "outputs": [],
   "source": [
    "# Run the Flask app\n",
    "# debug=True allows for hot-reloading and better error messages during development\n",
    "if __name__ == '__main__':\n",
    "    app.run(port=10003, debug=False)"
   ]
  },
  {
   "cell_type": "markdown",
   "id": "testing",
   "metadata": {},
   "source": [
    "## 5. Testing the Endpoint (Optional - requires a new cell)\n",
    "\n",
    "You can test the endpoint by sending a POST request to `http://127.0.0.1:5000/generate` with a JSON body like `{\"text\": \"Your prompt here\"}`. You can use libraries like `requests` in another notebook cell or a tool like `curl` or Postman.\n",
    "\n",
    "Example using `requests` (run in a separate cell *after* the Flask app is running):\n",
    "\n",
    "```python\n",
    "import requests\n",
    "\n",
    "url = '[http://127.0.0.1:5000/generate](http://127.0.0.1:5000/generate)'\n",
    "data = {'text': 'Once upon a time,'}\n",
    "\n",
    "try:\n",
    "    response = requests.post(url, json=data)\n",
    "    response.raise_for_status() # Raise an exception for bad status codes\n",
    "    result = response.json()\n",
    "    print(result)\n",
    "except requests.exceptions.RequestException as e:\n",
    "    print(f\"Error: {e}\")\n",
    "```"
   ]
  },
  {
   "cell_type": "code",
   "execution_count": null,
   "id": "2ab84faf-3310-4da4-8aa0-e00c21a109be",
   "metadata": {},
   "outputs": [],
   "source": [
    "import requests\n",
    "\n",
    "url = 'http://127.0.0.1:5000/generate'\n",
    "data = {'text': 'Once upon a time,'}\n",
    "\n",
    "try:\n",
    "    response = requests.post(url, json=data)\n",
    "    response.raise_for_status() # Raise an exception for bad status codes\n",
    "    result = response.json()\n",
    "    print(result)\n",
    "except requests.exceptions.RequestException as e:\n",
    "    print(f\"Error: {e}\")"
   ]
  },
  {
   "cell_type": "code",
   "execution_count": null,
   "id": "6c3cc98a-d48b-4c8a-aa46-40d1ff81e0e0",
   "metadata": {},
   "outputs": [],
   "source": []
  }
 ],
 "metadata": {
  "kernelspec": {
   "display_name": "Python 3 (ipykernel)",
   "language": "python",
   "name": "python3"
  },
  "language_info": {
   "codemirror_mode": {
    "name": "ipython",
    "version": 3
   },
   "file_extension": ".py",
   "mimetype": "text/x-python",
   "name": "python",
   "nbconvert_exporter": "python",
   "pygments_lexer": "ipython3",
   "version": "3.11.6"
  }
 },
 "nbformat": 4,
 "nbformat_minor": 5
}
