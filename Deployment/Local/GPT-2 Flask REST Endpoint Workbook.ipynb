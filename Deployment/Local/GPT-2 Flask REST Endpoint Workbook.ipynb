{
 "cells": [
  {
   "cell_type": "markdown",
   "id": "setup_workbook",
   "metadata": {},
   "source": [
    "# GPT-2 Flask REST Endpoint Workbook\n",
    "\n",
    "This workbook will guide you through the process of creating a local REST API endpoint using Flask to serve a GPT-2 text generation model. You will learn how to:\n",
    "\n",
    "1. **Install necessary libraries.**\n",
    "2. **Load the GPT-2 model.**\n",
    "3. **Create a Flask application and define an endpoint.**\n",
    "4. **Integrate the GPT-2 model into the Flask endpoint.**\n",
    "5. **Run the Flask development server.**\n",
    "6. **Test the endpoint.**"
   ]
  },
  {
   "cell_type": "markdown",
   "id": "installation_workbook",
   "metadata": {},
   "source": [
    "## 1. Installation\n",
    "\n",
    "First, we need to install the required libraries: `flask`, `transformers`, and `torch`. Use pip to install these libraries in the cell below."
   ]
  },
  {
   "cell_type": "code",
   "execution_count": null,
   "id": "install_libs_workbook",
   "metadata": {},
   "outputs": [],
   "source": [
    "# TODO: Install Flask, transformers, and torch using pip"
   ]
  },
  {
   "cell_type": "markdown",
   "id": "import_and_load_workbook",
   "metadata": {},
   "source": [
    "## 2. Import Libraries and Load Model\n",
    "\n",
    "Now, import the necessary libraries from Flask and transformers. Then, load the GPT-2 model and tokenizer using the `pipeline` function from `transformers`. Research how to use `transformers.pipeline` for text generation and how to set a seed for reproducibility.\n",
    "\n",
    "Also, define the `run_gpt2` function. This function will take input text and generate a response using the loaded GPT-2 model, removing the original input from the output."
   ]
  },
  {
   "cell_type": "code",
   "execution_count": null,
   "id": "load_model_workbook",
   "metadata": {},
   "outputs": [],
   "source": [
    "# TODO: Import Flask, request, and jsonify from flask\n",
    "# TODO: Import pipeline and set_seed from transformers\n",
    "\n",
    "# TODO: Initialize the GPT-2 text generation pipeline\n",
    "generator = None # Replace with your code\n",
    "# TODO: Set the seed for reproducibility\n",
    "\n",
    "# TODO: Define the run_gpt2 function as specified in the instructions\n",
    "def run_gpt2(input, answer_length=30):\n",
    "    pass # Replace with your code\n"
   ]
  },
  {
   "cell_type": "markdown",
   "id": "flask_app_workbook",
   "metadata": {},
   "source": [
    "## 3. Create Flask App and Endpoint\n",
    "\n",
    "Next, create a Flask application instance. Define a route, for example `/generate`, that will accept POST requests. This endpoint should expect JSON data containing a 'text' field with the user's prompt.\n",
    "\n",
    "Inside the route function, extract the prompt from the request, call your `run_gpt2` function with the prompt, and return the generated text as a JSON response. Include basic error handling for missing input.\n",
    "\n",
    "Research how to define routes and handle POST requests in Flask."
   ]
  },
  {
   "cell_type": "code",
   "execution_count": null,
   "id": "create_app_workbook",
   "metadata": {},
   "outputs": [],
   "source": [
    "# TODO: Create a Flask application instance\n",
    "app = None # Replace with your code\n",
    "\n",
    "# TODO: Define the '/generate' route that accepts POST requests\n",
    "def generate_text():\n",
    "    # TODO: Get the JSON data from the request\n",
    "    data = None # Replace with your code\n",
    "\n",
    "    # TODO: Check if the 'text' field is present and return an error if not\n",
    "\n",
    "    prompt = data['text']\n",
    "\n",
    "    try:\n",
    "        # TODO: Use the run_gpt2 function to generate text\n",
    "        generated_text = None # Replace with your code\n",
    "\n",
    "        # TODO: Return the generated text as a JSON response\n",
    "        pass # Replace with your code\n",
    "\n",
    "    except Exception as e:\n",
    "        # TODO: Return an error response if something goes wrong\n",
    "        pass # Replace with your code\n"
   ]
  },
  {
   "cell_type": "markdown",
   "id": "run_app_workbook",
   "metadata": {},
   "source": [
    "## 4. Run the Flask App\n",
    "\n",
    "Finally, run the Flask development server. This will make your endpoint accessible locally. The server will block the notebook cell execution. To stop the server, interrupt the kernel."
   ]
  },
  {
   "cell_type": "code",
   "execution_count": 1,
   "id": "run_server_workbook",
   "metadata": {},
   "outputs": [],
   "source": [
    "# TODO: Run the Flask app\n",
    "if __name__ == '__main__':\n",
    "    # Hint: Run with debug=False, otherwise you will have some troubles\n",
    "    pass # Replace with your code\n"
   ]
  },
  {
   "cell_type": "markdown",
   "id": "testing_workbook",
   "metadata": {},
   "source": [
    "## 5. Testing the Endpoint (Optional - requires a new notebook)\n",
    "\n",
    "Once the Flask app is running in the cell above, you can test the endpoint by sending a POST request to `http://127.0.0.1:5000/generate` (or the address/port you configured) with a JSON body like `{\"text\": \"Your prompt here\"}`. You can use libraries like `requests` in another notebook.\n",
    "\n",
    "Example using `requests` (run in a separate notebook *after* the Flask app is running):\n",
    "\n",
    "```python\n",
    "import requests\n",
    "\n",
    "url = '[http://127.0.0.1:5000/generate](http://127.0.0.1:5000/generate)'\n",
    "data = {'text': 'Once upon a time,'}\n",
    "\n",
    "try:\n",
    "    response = requests.post(url, json=data)\n",
    "    response.raise_for_status() # Raise an exception for bad status codes\n",
    "    result = response.json()\n",
    "    print(result)\n",
    "except requests.exceptions.RequestException as e:\n",
    "    print(f\"Error: {e}\")\n",
    "```"
   ]
  },
  {
   "cell_type": "code",
   "execution_count": null,
   "id": "51976c4b-59dc-4326-94ce-ca12b6b3edb8",
   "metadata": {},
   "outputs": [],
   "source": []
  }
 ],
 "metadata": {
  "kernelspec": {
   "display_name": "Python 3 (ipykernel)",
   "language": "python",
   "name": "python3"
  },
  "language_info": {
   "codemirror_mode": {
    "name": "ipython",
    "version": 3
   },
   "file_extension": ".py",
   "mimetype": "text/x-python",
   "name": "python",
   "nbconvert_exporter": "python",
   "pygments_lexer": "ipython3",
   "version": "3.11.6"
  }
 },
 "nbformat": 4,
 "nbformat_minor": 5
}
